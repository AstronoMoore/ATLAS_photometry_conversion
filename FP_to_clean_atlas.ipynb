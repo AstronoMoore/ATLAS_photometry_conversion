{
 "cells": [
  {
   "cell_type": "code",
   "execution_count": 38,
   "metadata": {},
   "outputs": [],
   "source": [
    "import pandas as pd \n",
    "import os\n",
    "cwd = os.getcwd()\n",
    "\n",
    "import sys\n",
    "print(sys.argv[0]) # prints python_script.py\n",
    "print(sys.argv[1]) # prints var1\n",
    "print(sys.argv[2]) # prints var2\n",
    "\n",
    "# SN Name\n",
    "SN_name = '2021ckj'\n",
    "# Forced photometry sever filename \n",
    "FP_file = 'FP_format.txt'\n",
    "# Name of the SN \n",
    "SN_name = '2021ckj'\n",
    "\n",
    "# making the output folder in the format required for clean_atlas.py to work \n",
    "if not os.path.exists(cwd + '/' + SN_name):\n",
    "    os.makedirs(cwd + '/' + SN_name)\n",
    "\n",
    "df = pd.read_table(FP_file, delim_whitespace=True)\n",
    "df = df.rename(columns={\"###MJD\": \"MJD\"})\n",
    "df_c = df[df['F'] == 'c'].to_csv(SN_name + '/' + SN_name+'.c.lc.txt','\\t',index=False)\n",
    "df_o = df[df['F'] == 'o'].to_csv(SN_name + '/' + SN_name+'.o.lc.txt','\\t',index=False)\n",
    "\n"
   ]
  },
  {
   "cell_type": "code",
   "execution_count": null,
   "metadata": {},
   "outputs": [],
   "source": []
  },
  {
   "cell_type": "code",
   "execution_count": null,
   "metadata": {},
   "outputs": [],
   "source": []
  },
  {
   "cell_type": "code",
   "execution_count": null,
   "metadata": {},
   "outputs": [],
   "source": []
  }
 ],
 "metadata": {
  "kernelspec": {
   "display_name": "Python 3.8.13 ('tardis')",
   "language": "python",
   "name": "python3"
  },
  "language_info": {
   "codemirror_mode": {
    "name": "ipython",
    "version": 3
   },
   "file_extension": ".py",
   "mimetype": "text/x-python",
   "name": "python",
   "nbconvert_exporter": "python",
   "pygments_lexer": "ipython3",
   "version": "3.8.13"
  },
  "orig_nbformat": 4,
  "vscode": {
   "interpreter": {
    "hash": "615ccefe2e71c77d8ac258cb9a21b27c93934d533ff5ae5bca223d13823d376c"
   }
  }
 },
 "nbformat": 4,
 "nbformat_minor": 2
}
