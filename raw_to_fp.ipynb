{
 "cells": [
  {
   "cell_type": "code",
   "execution_count": 17,
   "metadata": {},
   "outputs": [
    {
     "name": "stdout",
     "output_type": "stream",
     "text": [
      "The FP file is raw_fp.txt\n"
     ]
    }
   ],
   "source": [
    "# Basic scipt to convert forced photometry server output to be read by the clean_atlas_lc.py code. \n",
    "# T. Moore 3rd August 2022\n",
    "# Inputs SN Name forced photometry file \n",
    "#\n",
    "# Example command $ python fp_to_clean.py 2021ckj fored_photometry_file.txt\n",
    "\n",
    "import pandas as pd \n",
    "import os\n",
    "import sys\n",
    "cwd = os.getcwd()\n",
    "\n",
    "# raw forced phot file \n",
    "#FP_file = str(sys.argv[1])\n",
    "FP_file = 'raw_fp.txt'\n",
    "print(f'The FP file is {FP_file}')\n",
    "\n",
    "# This is the raw FP input\n",
    "#expname,ra,dec,mag,dm,snr,filter,zp,mjd,x,y,peakval,skyval,peakfit,dpeak,skyfit,flux,dflux,chin,major,minor,snrdet,snrlimit,apfit,uJy,duJy,mag5sig,texp\n",
    "\n",
    "# This is the required output format\n",
    "###MJD          m      dm   uJy   duJy F err chi/N     RA       Dec        x        y     maj  min   phi  apfit mag5sig Sky   Obs\n",
    "\n",
    "df = pd.read_csv(FP_file)"
   ]
  },
  {
   "cell_type": "code",
   "execution_count": 18,
   "metadata": {},
   "outputs": [],
   "source": [
    "# rearranging the dataframe \n",
    "df = df[['mjd', 'mag', 'dm', 'uJy', 'duJy', 'filter', 'mag', 'chin', 'ra', 'dec', 'x', 'y', 'major', 'minor', 'mag', 'apfit', 'mag5sig', 'skyval', '#expname']]\n",
    "cols = [['###MJD','m','dm','uJy','duJy','F','err','chi/N','RA','Dec','x','y','maj','min','phi','apfit','mag5sig','Sky','Obs']]\n",
    "df.columns = cols"
   ]
  },
  {
   "cell_type": "code",
   "execution_count": 20,
   "metadata": {},
   "outputs": [],
   "source": [
    "df.to_csv('raw_to_FP.txt','\\t',index=False)"
   ]
  },
  {
   "cell_type": "code",
   "execution_count": null,
   "metadata": {},
   "outputs": [],
   "source": []
  }
 ],
 "metadata": {
  "kernelspec": {
   "display_name": "Python 3.8.13 ('tardis')",
   "language": "python",
   "name": "python3"
  },
  "language_info": {
   "codemirror_mode": {
    "name": "ipython",
    "version": 3
   },
   "file_extension": ".py",
   "mimetype": "text/x-python",
   "name": "python",
   "nbconvert_exporter": "python",
   "pygments_lexer": "ipython3",
   "version": "3.8.13"
  },
  "orig_nbformat": 4,
  "vscode": {
   "interpreter": {
    "hash": "615ccefe2e71c77d8ac258cb9a21b27c93934d533ff5ae5bca223d13823d376c"
   }
  }
 },
 "nbformat": 4,
 "nbformat_minor": 2
}
